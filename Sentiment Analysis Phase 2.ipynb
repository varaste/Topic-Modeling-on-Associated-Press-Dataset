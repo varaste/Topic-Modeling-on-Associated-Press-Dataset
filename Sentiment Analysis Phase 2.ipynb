{
 "cells": [
  {
   "cell_type": "code",
   "execution_count": 1,
   "id": "3fde7b77",
   "metadata": {
    "ExecuteTime": {
     "end_time": "2022-01-06T13:32:11.033108Z",
     "start_time": "2022-01-06T13:32:08.720672Z"
    },
    "cell_style": "center"
   },
   "outputs": [],
   "source": [
    "# import nltk\n",
    "import csv\n",
    "import numpy\n",
    "import sklearn\n",
    "import nltk\n",
    "import numpy as np\n",
    "from nltk.corpus import stopwords\n",
    "from nltk.tokenize import word_tokenize\n",
    "from nltk.stem.porter import PorterStemmer\n",
    "# from sklearn.feature_extraction.text import CountVectorizer\n",
    "from sklearn.model_selection import train_test_split\n",
    "from sklearn.naive_bayes import MultinomialNB\n",
    "from sklearn.metrics import confusion_matrix,classification_report,accuracy_score\n",
    "from sklearn.linear_model import LogisticRegression\n",
    "from sklearn.metrics import confusion_matrix,classification_report,accuracy_score\n",
    "from sklearn.svm import LinearSVC\n",
    "from sklearn.metrics import confusion_matrix,classification_report,accuracy_score\n",
    "from sklearn.metrics import average_precision_score\n",
    "from sklearn.metrics import f1_score\n",
    "import sklearn\n",
    "from sklearn.metrics import precision_recall_fscore_support\n",
    "from sklearn.feature_extraction.text import TfidfVectorizer\n",
    "from sklearn.naive_bayes import MultinomialNB\n",
    "from sklearn.metrics import confusion_matrix,classification_report,accuracy_score\n"
   ]
  },
  {
   "cell_type": "code",
   "execution_count": 4,
   "id": "f4f54159",
   "metadata": {
    "ExecuteTime": {
     "end_time": "2022-01-06T12:39:44.850928Z",
     "start_time": "2022-01-06T12:39:44.833948Z"
    },
    "cell_style": "center"
   },
   "outputs": [],
   "source": [
    "datafile = open('IMDB_Movie_Reviews.csv', 'r', encoding=\"utf8\")\n",
    "myreader = csv.reader(datafile)\n",
    "stop_words = set(stopwords.words('english'))"
   ]
  },
  {
   "cell_type": "code",
   "execution_count": 5,
   "id": "e7e8b7b7",
   "metadata": {
    "ExecuteTime": {
     "end_time": "2022-01-06T12:42:31.448164Z",
     "start_time": "2022-01-06T12:39:49.425976Z"
    }
   },
   "outputs": [],
   "source": [
    "dicts = []\n",
    "corpus = []\n",
    "labels = []\n",
    "for line in myreader:\n",
    "    tokens = nltk.word_tokenize(line[0])\n",
    "    filtered_sentence = [w for w in tokens if not w.lower() in stop_words]\n",
    "    filtered_sentence = []\n",
    "\n",
    "    for w in tokens:\n",
    "        if w not in stop_words:\n",
    "            filtered_sentence.append(w)\n",
    "\n",
    "    words = [word for word in filtered_sentence if word.isalpha()]\n",
    "\n",
    "    porter = PorterStemmer()\n",
    "    stemmed = [porter.stem(word) for word in words]\n",
    "\n",
    "    dict = {\n",
    "        \"Review\": stemmed,\n",
    "        \"Label\": line[1],\n",
    "    }\n",
    "    dicts.append(dict)\n",
    "\n",
    "    string_tokens=' '.join([str(elem) for elem in stemmed])\n",
    "    corpus.append(string_tokens)\n",
    "    labels.append(line[1])"
   ]
  },
  {
   "cell_type": "code",
   "execution_count": 6,
   "id": "e238ead2",
   "metadata": {
    "ExecuteTime": {
     "end_time": "2022-01-06T12:42:33.019998Z",
     "start_time": "2022-01-06T12:42:33.011021Z"
    }
   },
   "outputs": [
    {
     "name": "stdout",
     "output_type": "stream",
     "text": [
      "i actual felt bad actor thing no doubt high school drama class could better job least well job the actor must thought would big chanc work film certainli besid terribl act stori bore part predict the one remot control even make sens to bad caus best premis br br i support low budget film give new film maker fair chanc turkey wast time insult viewer i watch good comment post they must plant peopl tie film you may fool peopl watch ca fool like br br i gave instead least boxer stori tri heart warm sure fail miser tri i reserv worst br br do favor skip dribbl i wish i\n",
      "0\n"
     ]
    }
   ],
   "source": [
    "print(corpus[10])\n",
    "print(labels[10])"
   ]
  },
  {
   "cell_type": "code",
   "execution_count": 17,
   "id": "0c2da5bd",
   "metadata": {
    "ExecuteTime": {
     "end_time": "2022-01-06T12:49:05.382853Z",
     "start_time": "2022-01-06T12:49:05.363881Z"
    },
    "cell_style": "center"
   },
   "outputs": [],
   "source": [
    "x_train, x_test, y_train, y_test = train_test_split(corpus, labels, test_size = 0.20, train_size = 0.80, random_state=42)"
   ]
  },
  {
   "cell_type": "code",
   "execution_count": 37,
   "id": "18839396",
   "metadata": {
    "ExecuteTime": {
     "end_time": "2022-01-06T12:59:02.393078Z",
     "start_time": "2022-01-06T12:58:54.467147Z"
    }
   },
   "outputs": [],
   "source": [
    "tfidf = TfidfVectorizer()\n",
    "tfidf.fit(corpus)\n",
    "tfidf_train = tfidf.transform(x_train)\n",
    "tfidf_test = tfidf.transform(x_test)"
   ]
  },
  {
   "cell_type": "code",
   "execution_count": 44,
   "id": "ff6cb986",
   "metadata": {
    "ExecuteTime": {
     "end_time": "2022-01-06T13:06:11.733409Z",
     "start_time": "2022-01-06T13:06:11.618691Z"
    }
   },
   "outputs": [
    {
     "name": "stdout",
     "output_type": "stream",
     "text": [
      "Accuracy Score of Naive Bayes with TF-IDF is:  0.86162767\n",
      "Precision Score of Naive Bayes with TF-IDF is:  0.86174526\n",
      "Recall Score of Naive Bayes with TF-IDF is:  0.86162767\n",
      "F1 Score of Naive Bayes with TF-IDF is:  0.86160028 \n",
      "\n",
      "Confusion Matrix of Naive Bayes with TF-IDF: \n",
      "[[2204  321]\n",
      " [ 371 2105]]\n"
     ]
    }
   ],
   "source": [
    "NaiveBayesTFIDF = MultinomialNB(alpha = 1)\n",
    "NaiveBayesTFIDF.fit(tfidf_train,y_train)\n",
    "y_pred = NaiveBayesTFIDF.predict(tfidf_test)\n",
    "\n",
    "accuracy_score_NaiveBayes = accuracy_score(y_test ,y_pred)\n",
    "print(\"Accuracy Score of Naive Bayes with TF-IDF is: \", round(accuracy_score_NaiveBayes, 8))\n",
    "\n",
    "prf_NBTFIDF = precision_recall_fscore_support(y_test ,y_pred, average = 'weighted')\n",
    "print(\"Precision Score of Naive Bayes with TF-IDF is: \", round(prf_NBTFIDF[0], 8))\n",
    "print(\"Recall Score of Naive Bayes with TF-IDF is: \", round(prf_NBTFIDF[1], 8))\n",
    "print(\"F1 Score of Naive Bayes with TF-IDF is: \", round(prf_NBTFIDF[2], 8), \"\\n\")\n",
    "\n",
    "print(\"Confusion Matrix of Naive Bayes with TF-IDF: \")\n",
    "print(confusion_matrix(y_test ,y_pred))"
   ]
  },
  {
   "cell_type": "code",
   "execution_count": 49,
   "id": "4e60a682",
   "metadata": {
    "ExecuteTime": {
     "end_time": "2022-01-06T13:10:23.913274Z",
     "start_time": "2022-01-06T13:10:23.074507Z"
    },
    "cell_style": "center"
   },
   "outputs": [
    {
     "name": "stdout",
     "output_type": "stream",
     "text": [
      "Accuracy Score of SVM with TF-IDF is:  0.88222356\n",
      "Precision Score of SVM with TF-IDF is:  0.88222075\n",
      "Recall Score of SVM with TF-IDF is:  0.88225731\n",
      "F1 Score of SVM with TF-IDF is:  0.88222037 \n",
      "\n",
      "Confusion Matrix of SVM with TF-IDF: \n",
      "[[2219  306]\n",
      " [ 283 2193]]\n"
     ]
    }
   ],
   "source": [
    "LSVMTFIDF = LinearSVC(C = 1)\n",
    "LSVMTFIDF.fit(tfidf_train, y_train)\n",
    "LSVM_y_pred = LSVMTFIDF.predict(tfidf_test)\n",
    "\n",
    "accuracy_score_SVM = accuracy_score(y_test ,LSVM_y_pred)\n",
    "print(\"Accuracy Score of SVM with TF-IDF is: \", round(accuracy_score_SVM, 8))\n",
    "\n",
    "prf_SVMTFIDF = precision_recall_fscore_support(y_test ,LSVM_y_pred, average='macro')\n",
    "print(\"Precision Score of SVM with TF-IDF is: \", round(prf_SVMTFIDF[0], 8))\n",
    "print(\"Recall Score of SVM with TF-IDF is: \", round(prf_SVMTFIDF[1], 8))\n",
    "print(\"F1 Score of SVM with TF-IDF is: \", round(prf_SVMTFIDF[2], 8), \"\\n\")\n",
    "\n",
    "print(\"Confusion Matrix of SVM with TF-IDF: \")\n",
    "print(confusion_matrix(y_test ,LSVM_y_pred))"
   ]
  },
  {
   "cell_type": "code",
   "execution_count": 54,
   "id": "12804147",
   "metadata": {
    "ExecuteTime": {
     "end_time": "2022-01-06T13:14:29.491942Z",
     "start_time": "2022-01-06T13:14:24.361328Z"
    }
   },
   "outputs": [
    {
     "name": "stdout",
     "output_type": "stream",
     "text": [
      "Accuracy Score of Logistic Regression with TF-IDF is:  0.88582284\n",
      "Precision Score of Logistic Regression with TF-IDF is:  0.8860631\n",
      "Recall Score of Logistic Regression with TF-IDF is:  0.88595491\n",
      "F1 Score of Logistic Regression with TF-IDF is:  0.88582021 \n",
      "\n",
      "Confusion Matrix of Logistic Regression with TF-IDF: \n",
      "[[2203  322]\n",
      " [ 249 2227]]\n"
     ]
    }
   ],
   "source": [
    "from sklearn.linear_model import LogisticRegression\n",
    "\n",
    "LogisticRTFIDF = LogisticRegression(penalty = 'l2', solver = 'newton-cg')\n",
    "LogisticRTFIDF.fit(tfidf_train, y_train)\n",
    "LogisticR_y_pred = LogisticRTFIDF.predict(tfidf_test)\n",
    "\n",
    "accuracy_score_LR = accuracy_score(y_test, LogisticR_y_pred)\n",
    "print(\"Accuracy Score of Logistic Regression with TF-IDF is: \", round(accuracy_score_LR, 8))\n",
    "\n",
    "prf_LRTFIDF = precision_recall_fscore_support(y_test, LogisticR_y_pred, average='macro')\n",
    "print(\"Precision Score of Logistic Regression with TF-IDF is: \", round(prf_LRTFIDF[0], 8))\n",
    "print(\"Recall Score of Logistic Regression with TF-IDF is: \", round(prf_LRTFIDF[1], 8))\n",
    "print(\"F1 Score of Logistic Regression with TF-IDF is: \", round(prf_LRTFIDF[2], 8), \"\\n\")\n",
    "\n",
    "print(\"Confusion Matrix of Logistic Regression with TF-IDF: \")\n",
    "print(confusion_matrix(y_test, LogisticR_y_pred))\n"
   ]
  },
  {
   "cell_type": "code",
   "execution_count": null,
   "id": "f1a97166",
   "metadata": {},
   "outputs": [],
   "source": []
  },
  {
   "cell_type": "code",
   "execution_count": 42,
   "id": "6a86a46e",
   "metadata": {
    "ExecuteTime": {
     "end_time": "2022-01-06T07:31:17.647487Z",
     "start_time": "2022-01-06T07:31:17.367237Z"
    }
   },
   "outputs": [],
   "source": []
  },
  {
   "cell_type": "code",
   "execution_count": 114,
   "id": "c44e4a78",
   "metadata": {
    "ExecuteTime": {
     "end_time": "2022-01-06T08:23:56.879782Z",
     "start_time": "2022-01-06T08:23:53.163311Z"
    }
   },
   "outputs": [],
   "source": []
  },
  {
   "cell_type": "code",
   "execution_count": 34,
   "id": "f2f0be85",
   "metadata": {
    "ExecuteTime": {
     "end_time": "2022-01-06T07:23:14.717967Z",
     "start_time": "2022-01-06T07:23:08.378897Z"
    }
   },
   "outputs": [],
   "source": []
  },
  {
   "cell_type": "code",
   "execution_count": null,
   "id": "4623807f",
   "metadata": {},
   "outputs": [],
   "source": []
  },
  {
   "cell_type": "code",
   "execution_count": 42,
   "id": "3b83b5b6",
   "metadata": {
    "ExecuteTime": {
     "end_time": "2022-01-06T13:03:49.884975Z",
     "start_time": "2022-01-06T13:03:49.427233Z"
    },
    "cell_style": "center"
   },
   "outputs": [
    {
     "ename": "ValueError",
     "evalue": "Expected 2D array, got 1D array instead:\narray=['thi one best comedi ever the write parodi soap brilliant cast well look name cast understand great if kevin kline fan alway fantast perform robert downey jr perfect if laugh seen movi sens humor'\n 'thi film amaz it inspir piec cinema the charact fulli develop truth director luci walker bring film i highli recommend one look special film show human human condit luci wlaker showcas landscap beauti thi film id true exampl man natur sometim man man the inner turmoil triumph tremend subject matter the subject tiebtan view blind sign demon interest thi film shed light particular cultur never showcas luci walker given erik weihenmay voic would normal heard thank luci true vison filmmak'\n 'i understand want make movi edgi differ i understand previou review comment movi my point soon movi end first comment happen rich princess want movi star talent use daddi money make movi wrote direct pay obvious close movi realiz charact develop direct begin middl end voyeur part good edgi point i saw women go hous find pictur screw caretak come side cold night believ check nois run caretak lover movi end one educ ignor arss i realli want know point director vision develop dead lover whi background caretak what point night vision what point lipstick car whi dead caretak whi tell us escap mental tom what urn oh lamp suppos signifi whose hous territori whi whi would caretak feel like hous aspect never pursu william defo i rent movi known edgi charact write back tell i need learn i mom middl america love movi chri'\n ...\n 'thi get bash star david hasselhoff well let bash compar garbag call horror come nowaday film bad it beauti lesli cum she super hot ca talk well there great scene supernatur rape she show nice bodi linda blair noth well hasselhoff'\n 'thi one worst movi ever it bad i laugh whole movi the plot so cheesi especi end thi movi turn i mean and i swear i think use sock puppet eel and horribl kiss scene middl two main charact happen divorc how predict it so terribl mom sister i could finish did finish year later the second time watch finish time comment throughout br br summari onli watch movi basher make hilari comment watch sleepov laugh i mean huge laugh also watch mockeri the metaphor explain movi thi movi shallow field full chees sock puppet'\n 'my year old love i love wife love so famili as violenc level not realli violent mostli slap stick varieti nobodi truli die gore blood tortur certainli appropri children much mani saturday morn br br thi movi realli take idea cg movi br br first beauti graphic textur wonder done true depth tri realist form artist whole the moss stone rust metal relief wood stone everyth add br br charact model unlik mani contemporari cg movi quirki cute within artist whole the face may look less malleabl movi charact i think good thing lend verac strang may sound easier suspend br br hair fur cloth par least like pixar just note open scene fight giant slug gwizdo front farmer detail cloth caus paus movi admir br br the set far beyond like car even space done mani time fantasi environ dragon hunter compar scene never end stori lord ring artist whole lot good idea thrown effortlessli magnific vista like scene monster ride doorway storag facil see immens trash tower made abound movi everyth grand yet never dwelt upon background whole way the interlud walk area fantast fall the chines wall island float sky the broccoli sky that truli i believ cg go make someth take breath away br br the sound good music vari epic thank without vocal pure origin br br anim quit good lend inspir cartoon especi good use stretch squeez sometim realist model realist br br character well done gentl uncertain giant gradual grow confid bask attent littl br br gwizdo wili manag redeem end zoé realli chang want cute child chang anyway i least love recent charact sinc sulley monster br br the intern strife group get iron extern pressur proper fantasi br br the stori mostli reminisc never end stori especi world brake apart the monster pretti standard fare except flock one it lack emot impact realli strong point movi much fun ride lack annoy music scene replay former one action first scene thi movi want watch fun excit br br the whole movi i mention whole vision seem follow rigor br br it seem set readi adventur i one would hope br br one side note french actor sound bit like jean reno first i happi though one favorit nice hear new br br i give max rate bit surpris mediocr low rate i tri address concern made two review lowest vote approach movi adventur european movi oppos hollywood differ'].\nReshape your data either using array.reshape(-1, 1) if your data has a single feature or array.reshape(1, -1) if it contains a single sample.",
     "output_type": "error",
     "traceback": [
      "\u001b[1;31m---------------------------------------------------------------------------\u001b[0m",
      "\u001b[1;31mValueError\u001b[0m                                Traceback (most recent call last)",
      "\u001b[1;32m<ipython-input-42-fbf61137c577>\u001b[0m in \u001b[0;36m<module>\u001b[1;34m\u001b[0m\n\u001b[0;32m      1\u001b[0m \u001b[0mNaiveBayes\u001b[0m \u001b[1;33m=\u001b[0m \u001b[0mMultinomialNB\u001b[0m\u001b[1;33m(\u001b[0m\u001b[0malpha\u001b[0m \u001b[1;33m=\u001b[0m \u001b[1;36m1\u001b[0m\u001b[1;33m)\u001b[0m\u001b[1;33m\u001b[0m\u001b[1;33m\u001b[0m\u001b[0m\n\u001b[1;32m----> 2\u001b[1;33m \u001b[0mNaiveBayes\u001b[0m\u001b[1;33m.\u001b[0m\u001b[0mfit\u001b[0m\u001b[1;33m(\u001b[0m\u001b[0mx_train\u001b[0m\u001b[1;33m,\u001b[0m\u001b[0my_train\u001b[0m\u001b[1;33m)\u001b[0m\u001b[1;33m\u001b[0m\u001b[1;33m\u001b[0m\u001b[0m\n\u001b[0m\u001b[0;32m      3\u001b[0m \u001b[0my_pred\u001b[0m \u001b[1;33m=\u001b[0m \u001b[0mNaiveBayes\u001b[0m\u001b[1;33m.\u001b[0m\u001b[0mpredict\u001b[0m\u001b[1;33m(\u001b[0m\u001b[0mx_test\u001b[0m\u001b[1;33m)\u001b[0m\u001b[1;33m\u001b[0m\u001b[1;33m\u001b[0m\u001b[0m\n\u001b[0;32m      4\u001b[0m \u001b[1;33m\u001b[0m\u001b[0m\n\u001b[0;32m      5\u001b[0m \u001b[0maccuracy_score_NaiveBayes\u001b[0m \u001b[1;33m=\u001b[0m \u001b[0maccuracy_score\u001b[0m\u001b[1;33m(\u001b[0m\u001b[0my_test\u001b[0m \u001b[1;33m,\u001b[0m\u001b[0my_pred\u001b[0m\u001b[1;33m)\u001b[0m\u001b[1;33m\u001b[0m\u001b[1;33m\u001b[0m\u001b[0m\n",
      "\u001b[1;32m~\\anaconda3\\lib\\site-packages\\sklearn\\naive_bayes.py\u001b[0m in \u001b[0;36mfit\u001b[1;34m(self, X, y, sample_weight)\u001b[0m\n\u001b[0;32m    610\u001b[0m         \u001b[0mself\u001b[0m \u001b[1;33m:\u001b[0m \u001b[0mobject\u001b[0m\u001b[1;33m\u001b[0m\u001b[1;33m\u001b[0m\u001b[0m\n\u001b[0;32m    611\u001b[0m         \"\"\"\n\u001b[1;32m--> 612\u001b[1;33m         \u001b[0mX\u001b[0m\u001b[1;33m,\u001b[0m \u001b[0my\u001b[0m \u001b[1;33m=\u001b[0m \u001b[0mself\u001b[0m\u001b[1;33m.\u001b[0m\u001b[0m_check_X_y\u001b[0m\u001b[1;33m(\u001b[0m\u001b[0mX\u001b[0m\u001b[1;33m,\u001b[0m \u001b[0my\u001b[0m\u001b[1;33m)\u001b[0m\u001b[1;33m\u001b[0m\u001b[1;33m\u001b[0m\u001b[0m\n\u001b[0m\u001b[0;32m    613\u001b[0m         \u001b[0m_\u001b[0m\u001b[1;33m,\u001b[0m \u001b[0mn_features\u001b[0m \u001b[1;33m=\u001b[0m \u001b[0mX\u001b[0m\u001b[1;33m.\u001b[0m\u001b[0mshape\u001b[0m\u001b[1;33m\u001b[0m\u001b[1;33m\u001b[0m\u001b[0m\n\u001b[0;32m    614\u001b[0m         \u001b[0mself\u001b[0m\u001b[1;33m.\u001b[0m\u001b[0mn_features_\u001b[0m \u001b[1;33m=\u001b[0m \u001b[0mn_features\u001b[0m\u001b[1;33m\u001b[0m\u001b[1;33m\u001b[0m\u001b[0m\n",
      "\u001b[1;32m~\\anaconda3\\lib\\site-packages\\sklearn\\naive_bayes.py\u001b[0m in \u001b[0;36m_check_X_y\u001b[1;34m(self, X, y)\u001b[0m\n\u001b[0;32m    475\u001b[0m \u001b[1;33m\u001b[0m\u001b[0m\n\u001b[0;32m    476\u001b[0m     \u001b[1;32mdef\u001b[0m \u001b[0m_check_X_y\u001b[0m\u001b[1;33m(\u001b[0m\u001b[0mself\u001b[0m\u001b[1;33m,\u001b[0m \u001b[0mX\u001b[0m\u001b[1;33m,\u001b[0m \u001b[0my\u001b[0m\u001b[1;33m)\u001b[0m\u001b[1;33m:\u001b[0m\u001b[1;33m\u001b[0m\u001b[1;33m\u001b[0m\u001b[0m\n\u001b[1;32m--> 477\u001b[1;33m         \u001b[1;32mreturn\u001b[0m \u001b[0mself\u001b[0m\u001b[1;33m.\u001b[0m\u001b[0m_validate_data\u001b[0m\u001b[1;33m(\u001b[0m\u001b[0mX\u001b[0m\u001b[1;33m,\u001b[0m \u001b[0my\u001b[0m\u001b[1;33m,\u001b[0m \u001b[0maccept_sparse\u001b[0m\u001b[1;33m=\u001b[0m\u001b[1;34m'csr'\u001b[0m\u001b[1;33m)\u001b[0m\u001b[1;33m\u001b[0m\u001b[1;33m\u001b[0m\u001b[0m\n\u001b[0m\u001b[0;32m    478\u001b[0m \u001b[1;33m\u001b[0m\u001b[0m\n\u001b[0;32m    479\u001b[0m     \u001b[1;32mdef\u001b[0m \u001b[0m_update_class_log_prior\u001b[0m\u001b[1;33m(\u001b[0m\u001b[0mself\u001b[0m\u001b[1;33m,\u001b[0m \u001b[0mclass_prior\u001b[0m\u001b[1;33m=\u001b[0m\u001b[1;32mNone\u001b[0m\u001b[1;33m)\u001b[0m\u001b[1;33m:\u001b[0m\u001b[1;33m\u001b[0m\u001b[1;33m\u001b[0m\u001b[0m\n",
      "\u001b[1;32m~\\anaconda3\\lib\\site-packages\\sklearn\\base.py\u001b[0m in \u001b[0;36m_validate_data\u001b[1;34m(self, X, y, reset, validate_separately, **check_params)\u001b[0m\n\u001b[0;32m    431\u001b[0m                 \u001b[0my\u001b[0m \u001b[1;33m=\u001b[0m \u001b[0mcheck_array\u001b[0m\u001b[1;33m(\u001b[0m\u001b[0my\u001b[0m\u001b[1;33m,\u001b[0m \u001b[1;33m**\u001b[0m\u001b[0mcheck_y_params\u001b[0m\u001b[1;33m)\u001b[0m\u001b[1;33m\u001b[0m\u001b[1;33m\u001b[0m\u001b[0m\n\u001b[0;32m    432\u001b[0m             \u001b[1;32melse\u001b[0m\u001b[1;33m:\u001b[0m\u001b[1;33m\u001b[0m\u001b[1;33m\u001b[0m\u001b[0m\n\u001b[1;32m--> 433\u001b[1;33m                 \u001b[0mX\u001b[0m\u001b[1;33m,\u001b[0m \u001b[0my\u001b[0m \u001b[1;33m=\u001b[0m \u001b[0mcheck_X_y\u001b[0m\u001b[1;33m(\u001b[0m\u001b[0mX\u001b[0m\u001b[1;33m,\u001b[0m \u001b[0my\u001b[0m\u001b[1;33m,\u001b[0m \u001b[1;33m**\u001b[0m\u001b[0mcheck_params\u001b[0m\u001b[1;33m)\u001b[0m\u001b[1;33m\u001b[0m\u001b[1;33m\u001b[0m\u001b[0m\n\u001b[0m\u001b[0;32m    434\u001b[0m             \u001b[0mout\u001b[0m \u001b[1;33m=\u001b[0m \u001b[0mX\u001b[0m\u001b[1;33m,\u001b[0m \u001b[0my\u001b[0m\u001b[1;33m\u001b[0m\u001b[1;33m\u001b[0m\u001b[0m\n\u001b[0;32m    435\u001b[0m \u001b[1;33m\u001b[0m\u001b[0m\n",
      "\u001b[1;32m~\\anaconda3\\lib\\site-packages\\sklearn\\utils\\validation.py\u001b[0m in \u001b[0;36minner_f\u001b[1;34m(*args, **kwargs)\u001b[0m\n\u001b[0;32m     61\u001b[0m             \u001b[0mextra_args\u001b[0m \u001b[1;33m=\u001b[0m \u001b[0mlen\u001b[0m\u001b[1;33m(\u001b[0m\u001b[0margs\u001b[0m\u001b[1;33m)\u001b[0m \u001b[1;33m-\u001b[0m \u001b[0mlen\u001b[0m\u001b[1;33m(\u001b[0m\u001b[0mall_args\u001b[0m\u001b[1;33m)\u001b[0m\u001b[1;33m\u001b[0m\u001b[1;33m\u001b[0m\u001b[0m\n\u001b[0;32m     62\u001b[0m             \u001b[1;32mif\u001b[0m \u001b[0mextra_args\u001b[0m \u001b[1;33m<=\u001b[0m \u001b[1;36m0\u001b[0m\u001b[1;33m:\u001b[0m\u001b[1;33m\u001b[0m\u001b[1;33m\u001b[0m\u001b[0m\n\u001b[1;32m---> 63\u001b[1;33m                 \u001b[1;32mreturn\u001b[0m \u001b[0mf\u001b[0m\u001b[1;33m(\u001b[0m\u001b[1;33m*\u001b[0m\u001b[0margs\u001b[0m\u001b[1;33m,\u001b[0m \u001b[1;33m**\u001b[0m\u001b[0mkwargs\u001b[0m\u001b[1;33m)\u001b[0m\u001b[1;33m\u001b[0m\u001b[1;33m\u001b[0m\u001b[0m\n\u001b[0m\u001b[0;32m     64\u001b[0m \u001b[1;33m\u001b[0m\u001b[0m\n\u001b[0;32m     65\u001b[0m             \u001b[1;31m# extra_args > 0\u001b[0m\u001b[1;33m\u001b[0m\u001b[1;33m\u001b[0m\u001b[1;33m\u001b[0m\u001b[0m\n",
      "\u001b[1;32m~\\anaconda3\\lib\\site-packages\\sklearn\\utils\\validation.py\u001b[0m in \u001b[0;36mcheck_X_y\u001b[1;34m(X, y, accept_sparse, accept_large_sparse, dtype, order, copy, force_all_finite, ensure_2d, allow_nd, multi_output, ensure_min_samples, ensure_min_features, y_numeric, estimator)\u001b[0m\n\u001b[0;32m    812\u001b[0m         \u001b[1;32mraise\u001b[0m \u001b[0mValueError\u001b[0m\u001b[1;33m(\u001b[0m\u001b[1;34m\"y cannot be None\"\u001b[0m\u001b[1;33m)\u001b[0m\u001b[1;33m\u001b[0m\u001b[1;33m\u001b[0m\u001b[0m\n\u001b[0;32m    813\u001b[0m \u001b[1;33m\u001b[0m\u001b[0m\n\u001b[1;32m--> 814\u001b[1;33m     X = check_array(X, accept_sparse=accept_sparse,\n\u001b[0m\u001b[0;32m    815\u001b[0m                     \u001b[0maccept_large_sparse\u001b[0m\u001b[1;33m=\u001b[0m\u001b[0maccept_large_sparse\u001b[0m\u001b[1;33m,\u001b[0m\u001b[1;33m\u001b[0m\u001b[1;33m\u001b[0m\u001b[0m\n\u001b[0;32m    816\u001b[0m                     \u001b[0mdtype\u001b[0m\u001b[1;33m=\u001b[0m\u001b[0mdtype\u001b[0m\u001b[1;33m,\u001b[0m \u001b[0morder\u001b[0m\u001b[1;33m=\u001b[0m\u001b[0morder\u001b[0m\u001b[1;33m,\u001b[0m \u001b[0mcopy\u001b[0m\u001b[1;33m=\u001b[0m\u001b[0mcopy\u001b[0m\u001b[1;33m,\u001b[0m\u001b[1;33m\u001b[0m\u001b[1;33m\u001b[0m\u001b[0m\n",
      "\u001b[1;32m~\\anaconda3\\lib\\site-packages\\sklearn\\utils\\validation.py\u001b[0m in \u001b[0;36minner_f\u001b[1;34m(*args, **kwargs)\u001b[0m\n\u001b[0;32m     61\u001b[0m             \u001b[0mextra_args\u001b[0m \u001b[1;33m=\u001b[0m \u001b[0mlen\u001b[0m\u001b[1;33m(\u001b[0m\u001b[0margs\u001b[0m\u001b[1;33m)\u001b[0m \u001b[1;33m-\u001b[0m \u001b[0mlen\u001b[0m\u001b[1;33m(\u001b[0m\u001b[0mall_args\u001b[0m\u001b[1;33m)\u001b[0m\u001b[1;33m\u001b[0m\u001b[1;33m\u001b[0m\u001b[0m\n\u001b[0;32m     62\u001b[0m             \u001b[1;32mif\u001b[0m \u001b[0mextra_args\u001b[0m \u001b[1;33m<=\u001b[0m \u001b[1;36m0\u001b[0m\u001b[1;33m:\u001b[0m\u001b[1;33m\u001b[0m\u001b[1;33m\u001b[0m\u001b[0m\n\u001b[1;32m---> 63\u001b[1;33m                 \u001b[1;32mreturn\u001b[0m \u001b[0mf\u001b[0m\u001b[1;33m(\u001b[0m\u001b[1;33m*\u001b[0m\u001b[0margs\u001b[0m\u001b[1;33m,\u001b[0m \u001b[1;33m**\u001b[0m\u001b[0mkwargs\u001b[0m\u001b[1;33m)\u001b[0m\u001b[1;33m\u001b[0m\u001b[1;33m\u001b[0m\u001b[0m\n\u001b[0m\u001b[0;32m     64\u001b[0m \u001b[1;33m\u001b[0m\u001b[0m\n\u001b[0;32m     65\u001b[0m             \u001b[1;31m# extra_args > 0\u001b[0m\u001b[1;33m\u001b[0m\u001b[1;33m\u001b[0m\u001b[1;33m\u001b[0m\u001b[0m\n",
      "\u001b[1;32m~\\anaconda3\\lib\\site-packages\\sklearn\\utils\\validation.py\u001b[0m in \u001b[0;36mcheck_array\u001b[1;34m(array, accept_sparse, accept_large_sparse, dtype, order, copy, force_all_finite, ensure_2d, allow_nd, ensure_min_samples, ensure_min_features, estimator)\u001b[0m\n\u001b[0;32m    635\u001b[0m             \u001b[1;31m# If input is 1D raise error\u001b[0m\u001b[1;33m\u001b[0m\u001b[1;33m\u001b[0m\u001b[1;33m\u001b[0m\u001b[0m\n\u001b[0;32m    636\u001b[0m             \u001b[1;32mif\u001b[0m \u001b[0marray\u001b[0m\u001b[1;33m.\u001b[0m\u001b[0mndim\u001b[0m \u001b[1;33m==\u001b[0m \u001b[1;36m1\u001b[0m\u001b[1;33m:\u001b[0m\u001b[1;33m\u001b[0m\u001b[1;33m\u001b[0m\u001b[0m\n\u001b[1;32m--> 637\u001b[1;33m                 raise ValueError(\n\u001b[0m\u001b[0;32m    638\u001b[0m                     \u001b[1;34m\"Expected 2D array, got 1D array instead:\\narray={}.\\n\"\u001b[0m\u001b[1;33m\u001b[0m\u001b[1;33m\u001b[0m\u001b[0m\n\u001b[0;32m    639\u001b[0m                     \u001b[1;34m\"Reshape your data either using array.reshape(-1, 1) if \"\u001b[0m\u001b[1;33m\u001b[0m\u001b[1;33m\u001b[0m\u001b[0m\n",
      "\u001b[1;31mValueError\u001b[0m: Expected 2D array, got 1D array instead:\narray=['thi one best comedi ever the write parodi soap brilliant cast well look name cast understand great if kevin kline fan alway fantast perform robert downey jr perfect if laugh seen movi sens humor'\n 'thi film amaz it inspir piec cinema the charact fulli develop truth director luci walker bring film i highli recommend one look special film show human human condit luci wlaker showcas landscap beauti thi film id true exampl man natur sometim man man the inner turmoil triumph tremend subject matter the subject tiebtan view blind sign demon interest thi film shed light particular cultur never showcas luci walker given erik weihenmay voic would normal heard thank luci true vison filmmak'\n 'i understand want make movi edgi differ i understand previou review comment movi my point soon movi end first comment happen rich princess want movi star talent use daddi money make movi wrote direct pay obvious close movi realiz charact develop direct begin middl end voyeur part good edgi point i saw women go hous find pictur screw caretak come side cold night believ check nois run caretak lover movi end one educ ignor arss i realli want know point director vision develop dead lover whi background caretak what point night vision what point lipstick car whi dead caretak whi tell us escap mental tom what urn oh lamp suppos signifi whose hous territori whi whi would caretak feel like hous aspect never pursu william defo i rent movi known edgi charact write back tell i need learn i mom middl america love movi chri'\n ...\n 'thi get bash star david hasselhoff well let bash compar garbag call horror come nowaday film bad it beauti lesli cum she super hot ca talk well there great scene supernatur rape she show nice bodi linda blair noth well hasselhoff'\n 'thi one worst movi ever it bad i laugh whole movi the plot so cheesi especi end thi movi turn i mean and i swear i think use sock puppet eel and horribl kiss scene middl two main charact happen divorc how predict it so terribl mom sister i could finish did finish year later the second time watch finish time comment throughout br br summari onli watch movi basher make hilari comment watch sleepov laugh i mean huge laugh also watch mockeri the metaphor explain movi thi movi shallow field full chees sock puppet'\n 'my year old love i love wife love so famili as violenc level not realli violent mostli slap stick varieti nobodi truli die gore blood tortur certainli appropri children much mani saturday morn br br thi movi realli take idea cg movi br br first beauti graphic textur wonder done true depth tri realist form artist whole the moss stone rust metal relief wood stone everyth add br br charact model unlik mani contemporari cg movi quirki cute within artist whole the face may look less malleabl movi charact i think good thing lend verac strang may sound easier suspend br br hair fur cloth par least like pixar just note open scene fight giant slug gwizdo front farmer detail cloth caus paus movi admir br br the set far beyond like car even space done mani time fantasi environ dragon hunter compar scene never end stori lord ring artist whole lot good idea thrown effortlessli magnific vista like scene monster ride doorway storag facil see immens trash tower made abound movi everyth grand yet never dwelt upon background whole way the interlud walk area fantast fall the chines wall island float sky the broccoli sky that truli i believ cg go make someth take breath away br br the sound good music vari epic thank without vocal pure origin br br anim quit good lend inspir cartoon especi good use stretch squeez sometim realist model realist br br character well done gentl uncertain giant gradual grow confid bask attent littl br br gwizdo wili manag redeem end zoé realli chang want cute child chang anyway i least love recent charact sinc sulley monster br br the intern strife group get iron extern pressur proper fantasi br br the stori mostli reminisc never end stori especi world brake apart the monster pretti standard fare except flock one it lack emot impact realli strong point movi much fun ride lack annoy music scene replay former one action first scene thi movi want watch fun excit br br the whole movi i mention whole vision seem follow rigor br br it seem set readi adventur i one would hope br br one side note french actor sound bit like jean reno first i happi though one favorit nice hear new br br i give max rate bit surpris mediocr low rate i tri address concern made two review lowest vote approach movi adventur european movi oppos hollywood differ'].\nReshape your data either using array.reshape(-1, 1) if your data has a single feature or array.reshape(1, -1) if it contains a single sample."
     ]
    }
   ],
   "source": []
  }
 ],
 "metadata": {
  "hide_input": false,
  "kernelspec": {
   "display_name": "Python 3",
   "language": "python",
   "name": "python3"
  },
  "language_info": {
   "codemirror_mode": {
    "name": "ipython",
    "version": 3
   },
   "file_extension": ".py",
   "mimetype": "text/x-python",
   "name": "python",
   "nbconvert_exporter": "python",
   "pygments_lexer": "ipython3",
   "version": "3.8.8"
  },
  "notify_time": "5",
  "toc": {
   "base_numbering": 1,
   "nav_menu": {},
   "number_sections": true,
   "sideBar": true,
   "skip_h1_title": false,
   "title_cell": "Table of Contents",
   "title_sidebar": "Contents",
   "toc_cell": false,
   "toc_position": {},
   "toc_section_display": true,
   "toc_window_display": false
  },
  "varInspector": {
   "cols": {
    "lenName": 16,
    "lenType": 16,
    "lenVar": 40
   },
   "kernels_config": {
    "python": {
     "delete_cmd_postfix": "",
     "delete_cmd_prefix": "del ",
     "library": "var_list.py",
     "varRefreshCmd": "print(var_dic_list())"
    },
    "r": {
     "delete_cmd_postfix": ") ",
     "delete_cmd_prefix": "rm(",
     "library": "var_list.r",
     "varRefreshCmd": "cat(var_dic_list()) "
    }
   },
   "types_to_exclude": [
    "module",
    "function",
    "builtin_function_or_method",
    "instance",
    "_Feature"
   ],
   "window_display": false
  }
 },
 "nbformat": 4,
 "nbformat_minor": 5
}
