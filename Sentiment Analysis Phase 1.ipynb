{
 "cells": [
  {
   "cell_type": "code",
   "execution_count": 132,
   "id": "3fde7b77",
   "metadata": {
    "ExecuteTime": {
     "end_time": "2022-01-06T09:14:53.229744Z",
     "start_time": "2022-01-06T09:14:53.182973Z"
    },
    "cell_style": "center"
   },
   "outputs": [],
   "source": [
    "# import nltk\n",
    "import csv\n",
    "import numpy\n",
    "import sklearn\n",
    "import nltk\n",
    "import numpy as np\n",
    "from nltk.corpus import stopwords\n",
    "from nltk.tokenize import word_tokenize\n",
    "from nltk.stem.porter import PorterStemmer\n",
    "# from sklearn.feature_extraction.text import CountVectorizer\n",
    "# from sklearn.model_selection import train_test_split\n",
    "# from sklearn.naive_bayes import MultinomialNB\n",
    "# from sklearn.metrics import confusion_matrix,classification_report,accuracy_score\n",
    "# from sklearn.linear_model import LogisticRegression\n",
    "# from sklearn.metrics import confusion_matrix,classification_report,accuracy_score\n",
    "# from sklearn.svm import LinearSVC\n",
    "# from sklearn.metrics import confusion_matrix,classification_report,accuracy_scorefrom sklearn.metrics \n",
    "# from sklearn.metrics import average_precision_score\n",
    "# from sklearn.metrics import f1_score\n",
    "import sklearn\n",
    "from sklearn.metrics import precision_recall_fscore_support\n"
   ]
  },
  {
   "cell_type": "code",
   "execution_count": 133,
   "id": "f4f54159",
   "metadata": {
    "ExecuteTime": {
     "end_time": "2022-01-06T09:14:57.390353Z",
     "start_time": "2022-01-06T09:14:57.058960Z"
    },
    "cell_style": "center"
   },
   "outputs": [],
   "source": [
    "datafile = open('IMDB_Movie_Reviews.csv', 'r', encoding=\"utf8\")\n",
    "myreader = csv.reader(datafile)\n",
    "stop_words = set(stopwords.words('english'))"
   ]
  },
  {
   "cell_type": "code",
   "execution_count": 134,
   "id": "e7e8b7b7",
   "metadata": {
    "ExecuteTime": {
     "end_time": "2022-01-06T09:17:42.998503Z",
     "start_time": "2022-01-06T09:15:01.088361Z"
    }
   },
   "outputs": [],
   "source": [
    "dicts = []\n",
    "corpus = []\n",
    "labels = []\n",
    "for line in myreader:\n",
    "    tokens = nltk.word_tokenize(line[0])\n",
    "    filtered_sentence = [w for w in tokens if not w.lower() in stop_words]\n",
    "    filtered_sentence = []\n",
    "\n",
    "    for w in tokens:\n",
    "        if w not in stop_words:\n",
    "            filtered_sentence.append(w)\n",
    "\n",
    "    words = [word for word in filtered_sentence if word.isalpha()]\n",
    "\n",
    "    porter = PorterStemmer()\n",
    "    stemmed = [porter.stem(word) for word in words]\n",
    "\n",
    "    dict = {\n",
    "        \"Review\": stemmed,\n",
    "        \"Label\": line[1],\n",
    "    }\n",
    "    dicts.append(dict)\n",
    "\n",
    "    string_tokens=' '.join([str(elem) for elem in stemmed])\n",
    "    corpus.append(string_tokens)\n",
    "    labels.append(line[1])"
   ]
  },
  {
   "cell_type": "code",
   "execution_count": 135,
   "id": "e238ead2",
   "metadata": {
    "ExecuteTime": {
     "end_time": "2022-01-06T09:17:46.913101Z",
     "start_time": "2022-01-06T09:17:46.899118Z"
    }
   },
   "outputs": [
    {
     "name": "stdout",
     "output_type": "stream",
     "text": [
      "i actual felt bad actor thing no doubt high school drama class could better job least well job the actor must thought would big chanc work film certainli besid terribl act stori bore part predict the one remot control even make sens to bad caus best premis br br i support low budget film give new film maker fair chanc turkey wast time insult viewer i watch good comment post they must plant peopl tie film you may fool peopl watch ca fool like br br i gave instead least boxer stori tri heart warm sure fail miser tri i reserv worst br br do favor skip dribbl i wish i\n",
      "0\n"
     ]
    }
   ],
   "source": [
    "print(corpus[10])\n",
    "print(labels[10])"
   ]
  },
  {
   "cell_type": "code",
   "execution_count": 136,
   "id": "0c2da5bd",
   "metadata": {
    "ExecuteTime": {
     "end_time": "2022-01-06T09:17:57.924242Z",
     "start_time": "2022-01-06T09:17:50.817091Z"
    },
    "cell_style": "center"
   },
   "outputs": [],
   "source": [
    "x_train, x_test, y_train, y_test = train_test_split(corpus, labels, test_size = 0.20, train_size = 0.80, random_state=42)\n",
    "vec = CountVectorizer(stop_words='english')\n",
    "x_train = vec.fit_transform(x_train).toarray()\n",
    "x_test = vec.transform(x_test).toarray()"
   ]
  },
  {
   "cell_type": "code",
   "execution_count": 142,
   "id": "3b83b5b6",
   "metadata": {
    "ExecuteTime": {
     "end_time": "2022-01-06T09:47:21.265478Z",
     "start_time": "2022-01-06T09:46:26.285909Z"
    },
    "cell_style": "center"
   },
   "outputs": [
    {
     "name": "stdout",
     "output_type": "stream",
     "text": [
      "Accuracy Score of Naive Bayes is:  0.853829\n",
      "Precision Score of Naive Bayes is:  0.854514\n",
      "Recall Score of Naive Bayes is:  0.853829\n",
      "F1 Score of Naive Bayes is:  0.853719 \n",
      "\n",
      "Confusion Matrix of Naive Bayes: \n",
      "[[2217  308]\n",
      " [ 423 2053]]\n"
     ]
    }
   ],
   "source": [
    "NaiveBayes = MultinomialNB(alpha = 1)\n",
    "NaiveBayes.fit(x_train,y_train)\n",
    "y_pred = NaiveBayes.predict(x_test)\n",
    "\n",
    "accuracy_score_NaiveBayes = accuracy_score(y_test ,y_pred)\n",
    "print(\"Accuracy Score of Naive Bayes is: \", round(accuracy_score_NaiveBayes, 6))\n",
    "\n",
    "prf_NB = precision_recall_fscore_support(y_test ,y_pred, average='weighted')\n",
    "print(\"Precision Score of Naive Bayes is: \", round(prf_NB[0], 6))\n",
    "print(\"Recall Score of Naive Bayes is: \", round(prf_NB[1], 6))\n",
    "print(\"F1 Score of Naive Bayes is: \", round(prf_NB[2], 6), \"\\n\")\n",
    "\n",
    "print(\"Confusion Matrix of Naive Bayes: \")\n",
    "print(confusion_matrix(y_test ,y_pred))"
   ]
  },
  {
   "cell_type": "code",
   "execution_count": 144,
   "id": "1fadb32d",
   "metadata": {
    "ExecuteTime": {
     "end_time": "2022-01-06T09:51:57.723648Z",
     "start_time": "2022-01-06T09:50:19.743523Z"
    },
    "cell_style": "center"
   },
   "outputs": [
    {
     "name": "stderr",
     "output_type": "stream",
     "text": [
      "C:\\Users\\Arya\\anaconda3\\lib\\site-packages\\sklearn\\svm\\_base.py:985: ConvergenceWarning: Liblinear failed to converge, increase the number of iterations.\n",
      "  warnings.warn(\"Liblinear failed to converge, increase \"\n"
     ]
    },
    {
     "name": "stdout",
     "output_type": "stream",
     "text": [
      "Accuracy Score of SVM is:  0.85003\n",
      "Precision Score of SVM is:  0.850033\n",
      "Recall Score of SVM is:  0.849992\n",
      "F1 Score of SVM is:  0.850008 \n",
      "\n",
      "Confusion Matrix of SVM: \n",
      "[[2156  369]\n",
      " [ 381 2095]]\n"
     ]
    }
   ],
   "source": [
    "LSVM = LinearSVC(C = 1)\n",
    "LSVM.fit(x_train, y_train)\n",
    "LSVM_y_pred = LSVM.predict(x_test)\n",
    "\n",
    "accuracy_score_SVM = accuracy_score(y_test ,LSVM_y_pred)\n",
    "print(\"Accuracy Score of SVM is: \", round(accuracy_score_SVM, 6))\n",
    "\n",
    "prf_SVM = precision_recall_fscore_support(y_test ,LSVM_y_pred, average='macro')\n",
    "print(\"Precision Score of SVM is: \", round(prf_SVM[0], 6))\n",
    "print(\"Recall Score of SVM is: \", round(prf_SVM[1], 6))\n",
    "print(\"F1 Score of SVM is: \", round(prf_SVM[2], 6), \"\\n\")\n",
    "\n",
    "print(\"Confusion Matrix of SVM: \")\n",
    "print(confusion_matrix(y_test ,LSVM_y_pred))"
   ]
  },
  {
   "cell_type": "code",
   "execution_count": 140,
   "id": "12804147",
   "metadata": {
    "ExecuteTime": {
     "end_time": "2022-01-06T09:39:54.716158Z",
     "start_time": "2022-01-06T09:21:57.261269Z"
    }
   },
   "outputs": [
    {
     "name": "stdout",
     "output_type": "stream",
     "text": [
      "Accuracy Score of Logistic Regression is:  0.87\n",
      "Precision Score of Logistic Regression is:  0.8698113258848488\n",
      "Recall Score of Logistic Regression is:  0.87\n",
      "F1 Score of Logistic Regression is:  0.87 \n",
      "\n",
      "Confusion Matrix of Logistic Regression: \n",
      "[[2193  332]\n",
      " [ 319 2157]]\n"
     ]
    }
   ],
   "source": [
    "LogisticR = LogisticRegression(penalty='l2',solver='newton-cg')\n",
    "LogisticR.fit(x_train, y_train)\n",
    "LogisticR_y_pred = LogisticR.predict(x_test)\n",
    "\n",
    "accuracy_score_LR = accuracy_score(y_test, LogisticR_y_pred)\n",
    "print(\"Accuracy Score of Logistic Regression is: \", round(accuracy_score_LR, 6))\n",
    "\n",
    "prf_LR = precision_recall_fscore_support(y_test, LogisticR_y_pred, average='macro')\n",
    "print(\"Precision Score of Logistic Regression is: \", round(prf_LR[0], 6))\n",
    "print(\"Recall Score of Logistic Regression is: \", round(prf_LR[1], 6))\n",
    "print(\"F1 Score of Logistic Regression is: \", round(prf_LR[2], 6), \"\\n\")\n",
    "\n",
    "print(\"Confusion Matrix of Logistic Regression: \")\n",
    "print(confusion_matrix(y_test, LogisticR_y_pred))\n"
   ]
  },
  {
   "cell_type": "code",
   "execution_count": null,
   "id": "f1a97166",
   "metadata": {},
   "outputs": [],
   "source": [
    "from sklearn.feature_extraction.text import TfidfVectorizer\n",
    "\n",
    "tfidf = TfidfVectorizer(max_features=10000,ngram_range=(1,3), stop_words='english')\n",
    "tfidf.fit(corpus)\n",
    "tfidf_train=tfidf.transform(x_train)\n",
    "tfidf_test= tfidf.transform(x_test)"
   ]
  },
  {
   "cell_type": "code",
   "execution_count": 42,
   "id": "6a86a46e",
   "metadata": {
    "ExecuteTime": {
     "end_time": "2022-01-06T07:31:17.647487Z",
     "start_time": "2022-01-06T07:31:17.367237Z"
    }
   },
   "outputs": [],
   "source": [
    "#Naive Bayes with Tf-idf Vectorizer\n",
    "\n",
    "from sklearn.naive_bayes import MultinomialNB\n",
    "from sklearn.metrics import confusion_matrix,classification_report,accuracy_score\n",
    "\n",
    "nv1 = MultinomialNB(alpha=0.1)\n",
    "nv1.fit(tfidf_train,y_train)\n",
    "y_pred_nv1_tfidf= nv.predict(cv_test)\n",
    "print(confusion_matrix(y_test,y_pred_nv1_tfidf))\n",
    "print(classification_report(y_test,y_pred_nv1_tfidf))\n",
    "print(accuracy_score(y_test,y_pred_nv1_tfidf))"
   ]
  },
  {
   "cell_type": "code",
   "execution_count": 114,
   "id": "c44e4a78",
   "metadata": {
    "ExecuteTime": {
     "end_time": "2022-01-06T08:23:56.879782Z",
     "start_time": "2022-01-06T08:23:53.163311Z"
    }
   },
   "outputs": [],
   "source": []
  },
  {
   "cell_type": "code",
   "execution_count": 34,
   "id": "f2f0be85",
   "metadata": {
    "ExecuteTime": {
     "end_time": "2022-01-06T07:23:14.717967Z",
     "start_time": "2022-01-06T07:23:08.378897Z"
    }
   },
   "outputs": [],
   "source": []
  },
  {
   "cell_type": "code",
   "execution_count": null,
   "id": "4623807f",
   "metadata": {},
   "outputs": [],
   "source": []
  }
 ],
 "metadata": {
  "hide_input": false,
  "kernelspec": {
   "display_name": "Python 3",
   "language": "python",
   "name": "python3"
  },
  "language_info": {
   "codemirror_mode": {
    "name": "ipython",
    "version": 3
   },
   "file_extension": ".py",
   "mimetype": "text/x-python",
   "name": "python",
   "nbconvert_exporter": "python",
   "pygments_lexer": "ipython3",
   "version": "3.8.8"
  },
  "notify_time": "5",
  "toc": {
   "base_numbering": 1,
   "nav_menu": {},
   "number_sections": true,
   "sideBar": true,
   "skip_h1_title": false,
   "title_cell": "Table of Contents",
   "title_sidebar": "Contents",
   "toc_cell": false,
   "toc_position": {},
   "toc_section_display": true,
   "toc_window_display": false
  },
  "varInspector": {
   "cols": {
    "lenName": 16,
    "lenType": 16,
    "lenVar": 40
   },
   "kernels_config": {
    "python": {
     "delete_cmd_postfix": "",
     "delete_cmd_prefix": "del ",
     "library": "var_list.py",
     "varRefreshCmd": "print(var_dic_list())"
    },
    "r": {
     "delete_cmd_postfix": ") ",
     "delete_cmd_prefix": "rm(",
     "library": "var_list.r",
     "varRefreshCmd": "cat(var_dic_list()) "
    }
   },
   "types_to_exclude": [
    "module",
    "function",
    "builtin_function_or_method",
    "instance",
    "_Feature"
   ],
   "window_display": false
  }
 },
 "nbformat": 4,
 "nbformat_minor": 5
}
