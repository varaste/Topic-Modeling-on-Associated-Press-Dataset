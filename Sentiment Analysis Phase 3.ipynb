{
 "cells": [
  {
   "cell_type": "code",
   "execution_count": 11,
   "id": "3fde7b77",
   "metadata": {
    "ExecuteTime": {
     "end_time": "2022-01-06T13:32:12.396031Z",
     "start_time": "2022-01-06T13:32:12.387056Z"
    },
    "cell_style": "center"
   },
   "outputs": [],
   "source": [
    "import csv\n",
    "import numpy\n",
    "import sklearn\n",
    "import nltk\n",
    "import numpy as np\n",
    "from nltk.corpus import stopwords\n",
    "from nltk.tokenize import word_tokenize\n",
    "from nltk.stem.porter import PorterStemmer\n",
    "# from sklearn.feature_extraction.text import CountVectorizer\n",
    "from sklearn.model_selection import train_test_split\n",
    "from sklearn.naive_bayes import MultinomialNB\n",
    "from sklearn.metrics import confusion_matrix,classification_report,accuracy_score\n",
    "from sklearn.linear_model import LogisticRegression\n",
    "from sklearn.metrics import confusion_matrix,classification_report,accuracy_score\n",
    "from sklearn.svm import LinearSVC\n",
    "from sklearn.metrics import confusion_matrix,classification_report,accuracy_score \n",
    "from sklearn.metrics import average_precision_score\n",
    "from sklearn.metrics import f1_score\n",
    "import sklearn\n",
    "from sklearn.metrics import precision_recall_fscore_support\n",
    "from sklearn.feature_extraction.text import TfidfVectorizer\n",
    "from sklearn.naive_bayes import MultinomialNB\n",
    "from sklearn.metrics import confusion_matrix,classification_report,accuracy_score"
   ]
  },
  {
   "cell_type": "code",
   "execution_count": 12,
   "id": "f4f54159",
   "metadata": {
    "ExecuteTime": {
     "end_time": "2022-01-06T13:32:14.265746Z",
     "start_time": "2022-01-06T13:32:14.259762Z"
    },
    "cell_style": "center"
   },
   "outputs": [],
   "source": [
    "datafile = open('IMDB_Movie_Reviews.csv', 'r', encoding=\"utf8\")\n",
    "myreader = csv.reader(datafile)\n",
    "stop_words = set(stopwords.words('english'))"
   ]
  },
  {
   "cell_type": "code",
   "execution_count": 13,
   "id": "e7e8b7b7",
   "metadata": {
    "ExecuteTime": {
     "end_time": "2022-01-06T13:35:32.235054Z",
     "start_time": "2022-01-06T13:32:15.538267Z"
    }
   },
   "outputs": [],
   "source": [
    "dicts = []\n",
    "corpus = []\n",
    "labels = []\n",
    "for line in myreader:\n",
    "    tokens = nltk.word_tokenize(line[0])\n",
    "    filtered_sentence = [w for w in tokens if not w.lower() in stop_words]\n",
    "    filtered_sentence = []\n",
    "\n",
    "    for w in tokens:\n",
    "        if w not in stop_words:\n",
    "            filtered_sentence.append(w)\n",
    "\n",
    "    words = [word for word in filtered_sentence if word.isalpha()]\n",
    "\n",
    "    porter = PorterStemmer()\n",
    "    stemmed = [porter.stem(word) for word in words]\n",
    "\n",
    "    dict = {\n",
    "        \"Review\": stemmed,\n",
    "        \"Label\": line[1],\n",
    "    }\n",
    "    dicts.append(dict)\n",
    "\n",
    "    string_tokens=' '.join([str(elem) for elem in stemmed])\n",
    "    corpus.append(string_tokens)\n",
    "    labels.append(line[1])"
   ]
  },
  {
   "cell_type": "code",
   "execution_count": 15,
   "id": "0c2da5bd",
   "metadata": {
    "ExecuteTime": {
     "end_time": "2022-01-06T13:36:02.852781Z",
     "start_time": "2022-01-06T13:36:02.826850Z"
    },
    "cell_style": "center"
   },
   "outputs": [],
   "source": [
    "x_train, x_test, y_train, y_test = train_test_split(corpus, labels, test_size = 0.20, train_size = 0.80, random_state=42)"
   ]
  },
  {
   "cell_type": "code",
   "execution_count": 25,
   "id": "18839396",
   "metadata": {
    "ExecuteTime": {
     "end_time": "2022-01-06T14:35:24.687304Z",
     "start_time": "2022-01-06T14:34:58.346947Z"
    }
   },
   "outputs": [],
   "source": [
    "tfidf = TfidfVectorizer(max_features = 1000000, ngram_range = (1, 3), stop_words = 'english')\n",
    "tfidf.fit(corpus)\n",
    "tfidf_train = tfidf.transform(x_train)\n",
    "tfidf_test = tfidf.transform(x_test)"
   ]
  },
  {
   "cell_type": "code",
   "execution_count": 28,
   "id": "ff6cb986",
   "metadata": {
    "ExecuteTime": {
     "end_time": "2022-01-06T14:36:24.079608Z",
     "start_time": "2022-01-06T14:36:23.724026Z"
    }
   },
   "outputs": [
    {
     "name": "stdout",
     "output_type": "stream",
     "text": [
      "Accuracy Score of Naive Bayes with My Feature Extension is:  0.8830234\n",
      "Precision Score of Naive Bayes with My Feature Extension is:  0.88324859\n",
      "Recall Score of Naive Bayes with My Feature Extension is:  0.8830234\n",
      "F1 Score of Naive Bayes with My Feature Extension is:  0.88302126 \n",
      "\n",
      "Confusion Matrix of Naive Bayes My Feature Extension: \n",
      "[[2204  321]\n",
      " [ 264 2212]]\n"
     ]
    }
   ],
   "source": [
    "NaiveBayesTFIDF = MultinomialNB(alpha = 1)\n",
    "NaiveBayesTFIDF.fit(tfidf_train,y_train)\n",
    "y_pred = NaiveBayesTFIDF.predict(tfidf_test)\n",
    "\n",
    "accuracy_score_NaiveBayes = accuracy_score(y_test ,y_pred)\n",
    "print(\"Accuracy Score of Naive Bayes with My Feature Extension is: \", round(accuracy_score_NaiveBayes, 8))\n",
    "\n",
    "prf_NBTFIDF = precision_recall_fscore_support(y_test ,y_pred, average = 'weighted')\n",
    "print(\"Precision Score of Naive Bayes with My Feature Extension is: \", round(prf_NBTFIDF[0], 8))\n",
    "print(\"Recall Score of Naive Bayes with My Feature Extension is: \", round(prf_NBTFIDF[1], 8))\n",
    "print(\"F1 Score of Naive Bayes with My Feature Extension is: \", round(prf_NBTFIDF[2], 8), \"\\n\")\n",
    "\n",
    "print(\"Confusion Matrix of Naive Bayes My Feature Extension: \")\n",
    "print(confusion_matrix(y_test ,y_pred))"
   ]
  },
  {
   "cell_type": "code",
   "execution_count": 29,
   "id": "4e60a682",
   "metadata": {
    "ExecuteTime": {
     "end_time": "2022-01-06T14:36:28.545598Z",
     "start_time": "2022-01-06T14:36:26.256478Z"
    },
    "cell_style": "center"
   },
   "outputs": [
    {
     "name": "stdout",
     "output_type": "stream",
     "text": [
      "Accuracy Score of SVM with My Feature Extension is:  0.89542092\n",
      "Precision Score of SVM with My Feature Extension is:  0.89564884\n",
      "Recall Score of SVM with My Feature Extension is:  0.89554999\n",
      "F1 Score of SVM with My Feature Extension is:  0.89541889 \n",
      "\n",
      "Confusion Matrix of SVM with My Feature Extension: \n",
      "[[2228  297]\n",
      " [ 226 2250]]\n"
     ]
    }
   ],
   "source": [
    "LSVMTFIDF = LinearSVC(C = 1)\n",
    "LSVMTFIDF.fit(tfidf_train, y_train)\n",
    "LSVM_y_pred = LSVMTFIDF.predict(tfidf_test)\n",
    "\n",
    "accuracy_score_SVM = accuracy_score(y_test ,LSVM_y_pred)\n",
    "print(\"Accuracy Score of SVM with My Feature Extension is: \", round(accuracy_score_SVM, 8))\n",
    "\n",
    "prf_SVMTFIDF = precision_recall_fscore_support(y_test ,LSVM_y_pred, average='macro')\n",
    "print(\"Precision Score of SVM with My Feature Extension is: \", round(prf_SVMTFIDF[0], 8))\n",
    "print(\"Recall Score of SVM with My Feature Extension is: \", round(prf_SVMTFIDF[1], 8))\n",
    "print(\"F1 Score of SVM with My Feature Extension is: \", round(prf_SVMTFIDF[2], 8), \"\\n\")\n",
    "\n",
    "print(\"Confusion Matrix of SVM with My Feature Extension: \")\n",
    "print(confusion_matrix(y_test ,LSVM_y_pred))"
   ]
  },
  {
   "cell_type": "code",
   "execution_count": 30,
   "id": "12804147",
   "metadata": {
    "ExecuteTime": {
     "end_time": "2022-01-06T14:37:07.498356Z",
     "start_time": "2022-01-06T14:36:30.656487Z"
    }
   },
   "outputs": [
    {
     "name": "stdout",
     "output_type": "stream",
     "text": [
      "Accuracy Score of Logistic Regression with My Feature Extension is:  0.8860228\n",
      "Precision Score of Logistic Regression with My Feature Extension is:  0.88669355\n",
      "Recall Score of Logistic Regression with My Feature Extension is:  0.88623522\n",
      "F1 Score of Logistic Regression with My Feature Extension is:  0.88600354 \n",
      "\n",
      "Confusion Matrix of Logistic Regression with My Feature Extension: \n",
      "[[2183  342]\n",
      " [ 228 2248]]\n"
     ]
    }
   ],
   "source": [
    "from sklearn.linear_model import LogisticRegression\n",
    "\n",
    "LogisticRTFIDF = LogisticRegression(penalty = 'l2', solver = 'newton-cg')\n",
    "LogisticRTFIDF.fit(tfidf_train, y_train)\n",
    "LogisticR_y_pred = LogisticRTFIDF.predict(tfidf_test)\n",
    "\n",
    "accuracy_score_LR = accuracy_score(y_test, LogisticR_y_pred)\n",
    "print(\"Accuracy Score of Logistic Regression with My Feature Extension is: \", round(accuracy_score_LR, 8))\n",
    "\n",
    "prf_LRTFIDF = precision_recall_fscore_support(y_test, LogisticR_y_pred, average='macro')\n",
    "print(\"Precision Score of Logistic Regression with My Feature Extension is: \", round(prf_LRTFIDF[0], 8))\n",
    "print(\"Recall Score of Logistic Regression with My Feature Extension is: \", round(prf_LRTFIDF[1], 8))\n",
    "print(\"F1 Score of Logistic Regression with My Feature Extension is: \", round(prf_LRTFIDF[2], 8), \"\\n\")\n",
    "\n",
    "print(\"Confusion Matrix of Logistic Regression with My Feature Extension: \")\n",
    "print(confusion_matrix(y_test, LogisticR_y_pred))\n"
   ]
  },
  {
   "cell_type": "code",
   "execution_count": null,
   "id": "f1a97166",
   "metadata": {},
   "outputs": [],
   "source": []
  },
  {
   "cell_type": "code",
   "execution_count": null,
   "id": "e238ead2",
   "metadata": {
    "ExecuteTime": {
     "end_time": "2022-01-06T13:35:33.969366Z",
     "start_time": "2022-01-06T13:35:33.963379Z"
    }
   },
   "outputs": [],
   "source": []
  },
  {
   "cell_type": "code",
   "execution_count": null,
   "id": "6a86a46e",
   "metadata": {
    "ExecuteTime": {
     "end_time": "2022-01-06T07:31:17.647487Z",
     "start_time": "2022-01-06T07:31:17.367237Z"
    }
   },
   "outputs": [],
   "source": []
  },
  {
   "cell_type": "code",
   "execution_count": null,
   "id": "c44e4a78",
   "metadata": {
    "ExecuteTime": {
     "end_time": "2022-01-06T08:23:56.879782Z",
     "start_time": "2022-01-06T08:23:53.163311Z"
    }
   },
   "outputs": [],
   "source": []
  },
  {
   "cell_type": "code",
   "execution_count": null,
   "id": "f2f0be85",
   "metadata": {
    "ExecuteTime": {
     "end_time": "2022-01-06T07:23:14.717967Z",
     "start_time": "2022-01-06T07:23:08.378897Z"
    }
   },
   "outputs": [],
   "source": []
  },
  {
   "cell_type": "code",
   "execution_count": null,
   "id": "4623807f",
   "metadata": {},
   "outputs": [],
   "source": []
  },
  {
   "cell_type": "code",
   "execution_count": null,
   "id": "3b83b5b6",
   "metadata": {
    "ExecuteTime": {
     "end_time": "2022-01-06T13:03:49.884975Z",
     "start_time": "2022-01-06T13:03:49.427233Z"
    },
    "cell_style": "center"
   },
   "outputs": [],
   "source": []
  },
  {
   "cell_type": "code",
   "execution_count": null,
   "id": "e404adc2",
   "metadata": {},
   "outputs": [],
   "source": []
  },
  {
   "cell_type": "code",
   "execution_count": null,
   "id": "88527d18",
   "metadata": {},
   "outputs": [],
   "source": []
  }
 ],
 "metadata": {
  "hide_input": false,
  "kernelspec": {
   "display_name": "Python 3",
   "language": "python",
   "name": "python3"
  },
  "language_info": {
   "codemirror_mode": {
    "name": "ipython",
    "version": 3
   },
   "file_extension": ".py",
   "mimetype": "text/x-python",
   "name": "python",
   "nbconvert_exporter": "python",
   "pygments_lexer": "ipython3",
   "version": "3.8.8"
  },
  "notify_time": "5",
  "toc": {
   "base_numbering": 1,
   "nav_menu": {},
   "number_sections": true,
   "sideBar": true,
   "skip_h1_title": false,
   "title_cell": "Table of Contents",
   "title_sidebar": "Contents",
   "toc_cell": false,
   "toc_position": {},
   "toc_section_display": true,
   "toc_window_display": false
  },
  "varInspector": {
   "cols": {
    "lenName": 16,
    "lenType": 16,
    "lenVar": 40
   },
   "kernels_config": {
    "python": {
     "delete_cmd_postfix": "",
     "delete_cmd_prefix": "del ",
     "library": "var_list.py",
     "varRefreshCmd": "print(var_dic_list())"
    },
    "r": {
     "delete_cmd_postfix": ") ",
     "delete_cmd_prefix": "rm(",
     "library": "var_list.r",
     "varRefreshCmd": "cat(var_dic_list()) "
    }
   },
   "types_to_exclude": [
    "module",
    "function",
    "builtin_function_or_method",
    "instance",
    "_Feature"
   ],
   "window_display": false
  }
 },
 "nbformat": 4,
 "nbformat_minor": 5
}
